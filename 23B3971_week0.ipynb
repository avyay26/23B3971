{
 "cells": [
  {
   "cell_type": "markdown",
   "metadata": {
    "id": "0q8CIlBHRxKv"
   },
   "source": [
    "# **Week 0 : Introduction to Python**\n",
    "In this assignment, we shall be providing a class template where you have to fill code in indicated areas. Let's get started!\n"
   ]
  },
  {
   "cell_type": "markdown",
   "metadata": {
    "id": "m4b3tHfuTOrh"
   },
   "source": [
    "<img src=\"https://www.python.org/static/community_logos/python-logo-master-v3-TM.png\"\n",
    " style=\"float:right;width:50px;height:50px;\">"
   ]
  },
  {
   "cell_type": "markdown",
   "metadata": {
    "id": "tK5oDi2_bRFD"
   },
   "source": [
    "# **Importing Libraries**\n",
    "Feel free to import any additional libraries required"
   ]
  },
  {
   "cell_type": "code",
   "execution_count": 1,
   "metadata": {
    "id": "tDaWKbPibNj1"
   },
   "outputs": [],
   "source": [
    "# Import all libraries here\n",
    "\n",
    "import numpy as np\n",
    "import pandas as pd\n",
    "from scipy import stats\n",
    "import timeit\n",
    "import matplotlib.pyplot as plt\n",
    "# Setting the seed for reproducible results\n"
   ]
  },
  {
   "cell_type": "markdown",
   "metadata": {
    "id": "M0kNSQmBYip0"
   },
   "source": [
    "# *Problem 1*\n",
    "In this problem, we will explore the concept of vectorising processes. Hence, we will focus upon eliminating as many for loops as possible and compare performance with and without for loops using python libraries.\n",
    "We will be computing\n",
    "\\begin{equation}\n",
    "s = \\sum_{i=1}^{N}w.v[i]\n",
    "\\end{equation}\n",
    "for a given matrix \n",
    "\\begin{equation}\n",
    "M = [v(1)\\text{  }v(2){}_{\\cdots}\\text{  }v(N)]\n",
    "\\end{equation}\n",
    "\n",
    "In the function : \\\\\n",
    "1. iterative_mult(w) : Iteratively multiply the row vector w with each of the columns of the matrix M (using a for loop), and return the addition of all results.\n",
    "2. matrix_mult(w) : Multiply the row vector w with the matrix M and add the resulting columns using a function of the numpy library.\n",
    "3. comparison(w) : Call the previous two functions here and measure the time taken in each of them using a python library. Store the times in variables time_iterative, time_matrix."
   ]
  },
  {
   "cell_type": "code",
   "execution_count": 2,
   "metadata": {
    "id": "k8IPZ0BmVpKv"
   },
   "outputs": [
    {
     "name": "stdout",
     "output_type": "stream",
     "text": [
      "Time taken by iterative method : 5.9699988923966885e-05\n",
      "Time taken by matrix method : 3.7299992982298136e-05\n",
      "(5.9699988923966885e-05, 3.7299992982298136e-05)\n"
     ]
    }
   ],
   "source": [
    "import timeit\n",
    "class Tester : \n",
    "\n",
    "  def __init__(self, M) :  \n",
    "    self.M = M\n",
    "\n",
    "  def iterative_mult(self,w) :\n",
    "    ### INSERT CODE BELOW  ###\n",
    "      k=0\n",
    "      x=0\n",
    "      dot=[]\n",
    "      for k in self.M:\n",
    "       x=0\n",
    "       j=0\n",
    "       for i in k:\n",
    "         x=x+w[0,j]*i\n",
    "         j=j+1  \n",
    "       dot.append(x)    \n",
    "                 \n",
    "      dot=np.array(dot)\n",
    "      sum=0\n",
    "      for x in dot:\n",
    "          sum=sum+x\n",
    "\n",
    "      return  sum\n",
    "    ### INSERT CODE ABOVE ### \n",
    "\n",
    "  def matrix_mult(self,w) :\n",
    "\n",
    "    ### INSERT CODE BELOW  ###\n",
    "    y=0  \n",
    "    for k in self.M:\n",
    "        \n",
    "      x=np.multiply(w[0],k)\n",
    "      y=y+sum(x)  \n",
    "    return y \n",
    "    ### INSERT CODE ABOVE ###\n",
    "\n",
    "  def comparison(self,w) :\n",
    "\n",
    "    time_iterative = 0\n",
    "    time_matrix = 0\n",
    "\n",
    "    ### INSERT CODE BELOW  ###\n",
    "    y=timeit.default_timer()\n",
    "    self.iterative_mult(w)\n",
    "    x=timeit.default_timer()\n",
    "    time_iterative=timeit.default_timer()-y\n",
    "    z=timeit.default_timer()\n",
    "    self.matrix_mult(w)\n",
    "    \n",
    "    time_matrix=timeit.default_timer()-z\n",
    "      \n",
    "    \n",
    "    ### INSERT CODE ABOVE ###\n",
    "\n",
    "    print(f'Time taken by iterative method : {time_iterative}\\nTime taken by matrix method : {time_matrix}')\n",
    "\n",
    "    return time_iterative, time_matrix\n",
    "y=np.array([[1,2,3],[1,2,3]])\n",
    "tes=Tester(y)\n",
    "e=np.array([[2,3,4]])\n",
    "r=tes.comparison(e)\n",
    "print(r)  "
   ]
  },
  {
   "cell_type": "markdown",
   "metadata": {
    "id": "4onzhV4KcSAI"
   },
   "source": [
    "Now that we have created a tester class with some basic functionality of performance analysis, we will plot the time taken in both the methods of computing the required quantity. That is, given a row vector w, we want to compute :              \n",
    "\n",
    "\\begin{equation}\n",
    "s = \\sum_{i=1}^{N}w.v(i)\n",
    "\\end{equation}\n",
    "For this purpose, we will use the matplotlib library in python. "
   ]
  },
  {
   "cell_type": "code",
   "execution_count": 3,
   "metadata": {
    "id": "AUvkFgHxftZ_"
   },
   "outputs": [
    {
     "name": "stdout",
     "output_type": "stream",
     "text": [
      "[[ 0.8186082  -0.19580661 -1.17335095  0.72501601  1.1165749   1.29375459\n",
      "  -2.12028004  1.18352815 -2.52309341  0.49379753 -1.32214149 -0.17567747\n",
      "   0.78438829 -0.91224741 -0.32063173  0.69180452  1.23102437  0.83600016\n",
      "  -0.54041932 -0.24912694  0.09675047 -0.7072007  -2.74754476  0.90878523\n",
      "  -0.00380722  1.17697189 -1.26803554  0.03910855  1.16129547  2.87479119\n",
      "  -0.82930382  0.58871173 -1.22904005 -1.04465936 -0.25826537 -0.21975006\n",
      "  -0.83538078  0.55036573 -0.33063586 -0.59631687 -0.36655079  1.74462758\n",
      "   0.27109454  1.70323756  0.26926818  2.53715132  1.0171783  -0.37475744\n",
      "  -0.2668322  -1.02730406 -0.78618156  0.01977839 -0.37186643  0.14440934\n",
      "   0.83264432  0.17270433  0.64412011 -0.93704237 -0.579225    0.55794918\n",
      "   1.01500217 -0.02536454  0.3814774   0.66338932  0.85877814 -0.55138145\n",
      "  -0.02681956  0.19038403 -0.16984538  0.50956313  1.04200053  0.88357913\n",
      "   1.62317712  1.96693364 -0.75426758 -1.01440031 -0.14794789 -0.17867726\n",
      "  -0.20174049 -1.44890942 -0.28874754  0.99776822 -0.18757641 -1.54503859\n",
      "  -0.16575225 -0.35069158 -1.74009298  0.18097867 -0.3538408   0.98702158\n",
      "   1.09464109  0.64492233  0.29556763 -0.3891073   1.84836281  1.37419156\n",
      "   0.94029792  1.93896455 -1.65893779 -0.37372353]]\n",
      "Time taken by iterative method : 5.15999854542315e-05\n",
      "Time taken by matrix method : 1.9099970813840628e-05\n",
      "Time taken by iterative method : 0.00029390002600848675\n",
      "Time taken by matrix method : 7.269997149705887e-05\n",
      "Time taken by iterative method : 0.0018087999778799713\n",
      "Time taken by matrix method : 0.0006311999750323594\n",
      "Time taken by iterative method : 0.02143760002218187\n",
      "Time taken by matrix method : 0.008467499981634319\n",
      "Time taken by iterative method : 0.2723601999459788\n",
      "Time taken by matrix method : 0.08560880000004545\n",
      "[(5.15999854542315e-05, 1.9099970813840628e-05), (0.00029390002600848675, 7.269997149705887e-05), (0.0018087999778799713, 0.0006311999750323594), (0.02143760002218187, 0.008467499981634319), (0.2723601999459788, 0.08560880000004545)]\n",
      "[5.15999854542315e-05, 0.00029390002600848675, 0.0018087999778799713, 0.02143760002218187, 0.2723601999459788]\n"
     ]
    },
    {
     "data": {
      "image/png": "[encoded data removed]",
      "text/plain": [
       "<Figure size 640x480 with 1 Axes>"
      ]
     },
     "metadata": {},
     "output_type": "display_data"
    }
   ],
   "source": [
    "w = np.random.randn(1, 100)\n",
    "results = []\n",
    "max_pow = 5\n",
    "print(w)\n",
    "for i in range(max_pow) : \n",
    "\n",
    "  '''\n",
    "  1. Computing the times using Tester object defined above\n",
    "  2. Append the times to the results array\n",
    "  '''\n",
    "\n",
    "  size = np.round(10**i)\n",
    "  M = np.random.randn(size,100)\n",
    "  tester = Tester(M)\n",
    "\n",
    "  ### INSERT CODE BELOW ###\n",
    "  u=tester.comparison(w)\n",
    "  results.append(u)\n",
    "xpoints=[]\n",
    "ypoints=[]\n",
    "print(results)\n",
    "for i in results:\n",
    " xpoints.append(i[0])   \n",
    " ypoints.append(i[1])\n",
    "print(xpoints)    \n",
    "    \n",
    "\n",
    "\n",
    "  ### INSERT CODE ABOVE ###\n",
    "\n",
    "'''\n",
    "Now, plot the (line) graph with the axes as : \n",
    "1. X-axis : The 2nd dimension of the matrix M\n",
    "2. Y-axis : The times taken for the two processes\n",
    "\n",
    "Additionally, you must use a legend in order to distinguish the graphs of the two processes.\n",
    "'''\n",
    "\n",
    "### INSERT CODE BELOW ###\n",
    "xpo=np.array([1,10,100,1000,10000])\n",
    "ypo1=np.array(xpoints)\n",
    "ypo2=np.array(ypoints)\n",
    "plt.plot(xpo,ypo1)\n",
    "plt.plot(xpo,ypo2)\n",
    "plt.show()\n",
    "\n",
    "\n",
    "\n",
    "### INSERT CODE ABOVE ###"
   ]
  },
  {
   "cell_type": "markdown",
   "metadata": {
    "id": "n_tp5arYsWN9"
   },
   "source": [
    "# **Observations**\n",
    "\n",
    "Now that we have successfully plotted the graphs, you can comment on the differences in the two times of computation. Please write your observations in the text box provided below. Make sure to note down the following : \\\\\n",
    "1. The approximate order of times obtained in the two processes (s/ms/$\\mu$s/ns)\n",
    "2. The method which results in lower computation times and by what factor\n",
    "3. Some possible explanation for your observation (after some googling perhaps)"
   ]
  },
  {
   "cell_type": "markdown",
   "metadata": {
    "id": "kTQfyDLxtq01"
   },
   "source": [
    "Insert observations here (double-click to edit the cell)"
   ]
  },
  {
   "cell_type": "markdown",
   "metadata": {
    "id": "dIH2wqFnpfHj"
   },
   "source": [
    "# *Problem 2*\n",
    "\n",
    "In this assignment, you will be loading the famous [MNIST](http://yann.lecun.com/exdb/mnist/) dataset (a large dataset of hand-written images of numbers) from a *CSV* (comma separated values) file and performing various operations on them. \n",
    "\n",
    "Enjoy!\n",
    "\n",
    "\n"
   ]
  },
  {
   "cell_type": "markdown",
   "metadata": {
    "id": "gynBLuybpt0N"
   },
   "source": [
    "\n",
    "<img src=\"https://journaldev.nyc3.digitaloceanspaces.com/2020/10/mnist-dataset.png\"\n",
    " style=\"float:right;width:50px;height:50px;\">"
   ]
  },
  {
   "cell_type": "markdown",
   "metadata": {
    "id": "m44OKyYhpwV-"
   },
   "source": [
    "# **Loading Data**\n",
    "Let's start by loading the csv file in the main repo. Figure out how to load a file onto Google Colab (or whichever notebook you're using). The data can be downloaded from [here](https://drive.google.com/file/d/1p-rZZRrdbK05uIwRvwnkinpJI5o2griD/view?usp=share_link)\n"
   ]
  },
  {
   "cell_type": "code",
   "execution_count": 8,
   "metadata": {
    "id": "kPt2MwMDp2n8"
   },
   "outputs": [
    {
     "data": {
      "text/html": [
       "<div>\n",
       "<style scoped>\n",
       "    .dataframe tbody tr th:only-of-type {\n",
       "        vertical-align: middle;\n",
       "    }\n",
       "\n",
       "    .dataframe tbody tr th {\n",
       "        vertical-align: top;\n",
       "    }\n",
       "\n",
       "    .dataframe thead th {\n",
       "        text-align: right;\n",
       "    }\n",
       "</style>\n",
       "<table border=\"1\" class=\"dataframe\">\n",
       "  <thead>\n",
       "    <tr style=\"text-align: right;\">\n",
       "      <th></th>\n",
       "      <th>label</th>\n",
       "      <th>1x1</th>\n",
       "      <th>1x2</th>\n",
       "      <th>1x3</th>\n",
       "      <th>1x4</th>\n",
       "      <th>1x5</th>\n",
       "      <th>1x6</th>\n",
       "      <th>1x7</th>\n",
       "      <th>1x8</th>\n",
       "      <th>1x9</th>\n",
       "      <th>...</th>\n",
       "      <th>28x19</th>\n",
       "      <th>28x20</th>\n",
       "      <th>28x21</th>\n",
       "      <th>28x22</th>\n",
       "      <th>28x23</th>\n",
       "      <th>28x24</th>\n",
       "      <th>28x25</th>\n",
       "      <th>28x26</th>\n",
       "      <th>28x27</th>\n",
       "      <th>28x28</th>\n",
       "    </tr>\n",
       "  </thead>\n",
       "  <tbody>\n",
       "    <tr>\n",
       "      <th>0</th>\n",
       "      <td>5</td>\n",
       "      <td>0</td>\n",
       "      <td>0</td>\n",
       "      <td>0</td>\n",
       "      <td>0</td>\n",
       "      <td>0</td>\n",
       "      <td>0</td>\n",
       "      <td>0</td>\n",
       "      <td>0</td>\n",
       "      <td>0</td>\n",
       "      <td>...</td>\n",
       "      <td>0</td>\n",
       "      <td>0</td>\n",
       "      <td>0</td>\n",
       "      <td>0</td>\n",
       "      <td>0</td>\n",
       "      <td>0</td>\n",
       "      <td>0</td>\n",
       "      <td>0</td>\n",
       "      <td>0</td>\n",
       "      <td>0</td>\n",
       "    </tr>\n",
       "    <tr>\n",
       "      <th>1</th>\n",
       "      <td>0</td>\n",
       "      <td>0</td>\n",
       "      <td>0</td>\n",
       "      <td>0</td>\n",
       "      <td>0</td>\n",
       "      <td>0</td>\n",
       "      <td>0</td>\n",
       "      <td>0</td>\n",
       "      <td>0</td>\n",
       "      <td>0</td>\n",
       "      <td>...</td>\n",
       "      <td>0</td>\n",
       "      <td>0</td>\n",
       "      <td>0</td>\n",
       "      <td>0</td>\n",
       "      <td>0</td>\n",
       "      <td>0</td>\n",
       "      <td>0</td>\n",
       "      <td>0</td>\n",
       "      <td>0</td>\n",
       "      <td>0</td>\n",
       "    </tr>\n",
       "    <tr>\n",
       "      <th>2</th>\n",
       "      <td>4</td>\n",
       "      <td>0</td>\n",
       "      <td>0</td>\n",
       "      <td>0</td>\n",
       "      <td>0</td>\n",
       "      <td>0</td>\n",
       "      <td>0</td>\n",
       "      <td>0</td>\n",
       "      <td>0</td>\n",
       "      <td>0</td>\n",
       "      <td>...</td>\n",
       "      <td>0</td>\n",
       "      <td>0</td>\n",
       "      <td>0</td>\n",
       "      <td>0</td>\n",
       "      <td>0</td>\n",
       "      <td>0</td>\n",
       "      <td>0</td>\n",
       "      <td>0</td>\n",
       "      <td>0</td>\n",
       "      <td>0</td>\n",
       "    </tr>\n",
       "    <tr>\n",
       "      <th>3</th>\n",
       "      <td>1</td>\n",
       "      <td>0</td>\n",
       "      <td>0</td>\n",
       "      <td>0</td>\n",
       "      <td>0</td>\n",
       "      <td>0</td>\n",
       "      <td>0</td>\n",
       "      <td>0</td>\n",
       "      <td>0</td>\n",
       "      <td>0</td>\n",
       "      <td>...</td>\n",
       "      <td>0</td>\n",
       "      <td>0</td>\n",
       "      <td>0</td>\n",
       "      <td>0</td>\n",
       "      <td>0</td>\n",
       "      <td>0</td>\n",
       "      <td>0</td>\n",
       "      <td>0</td>\n",
       "      <td>0</td>\n",
       "      <td>0</td>\n",
       "    </tr>\n",
       "    <tr>\n",
       "      <th>4</th>\n",
       "      <td>9</td>\n",
       "      <td>0</td>\n",
       "      <td>0</td>\n",
       "      <td>0</td>\n",
       "      <td>0</td>\n",
       "      <td>0</td>\n",
       "      <td>0</td>\n",
       "      <td>0</td>\n",
       "      <td>0</td>\n",
       "      <td>0</td>\n",
       "      <td>...</td>\n",
       "      <td>0</td>\n",
       "      <td>0</td>\n",
       "      <td>0</td>\n",
       "      <td>0</td>\n",
       "      <td>0</td>\n",
       "      <td>0</td>\n",
       "      <td>0</td>\n",
       "      <td>0</td>\n",
       "      <td>0</td>\n",
       "      <td>0</td>\n",
       "    </tr>\n",
       "  </tbody>\n",
       "</table>\n",
       "<p>5 rows × 785 columns</p>\n",
       "</div>"
      ],
      "text/plain": [
       "   label  1x1  1x2  1x3  1x4  1x5  1x6  1x7  1x8  1x9  ...  28x19  28x20  \\\n",
       "0      5    0    0    0    0    0    0    0    0    0  ...      0      0   \n",
       "1      0    0    0    0    0    0    0    0    0    0  ...      0      0   \n",
       "2      4    0    0    0    0    0    0    0    0    0  ...      0      0   \n",
       "3      1    0    0    0    0    0    0    0    0    0  ...      0      0   \n",
       "4      9    0    0    0    0    0    0    0    0    0  ...      0      0   \n",
       "\n",
       "   28x21  28x22  28x23  28x24  28x25  28x26  28x27  28x28  \n",
       "0      0      0      0      0      0      0      0      0  \n",
       "1      0      0      0      0      0      0      0      0  \n",
       "2      0      0      0      0      0      0      0      0  \n",
       "3      0      0      0      0      0      0      0      0  \n",
       "4      0      0      0      0      0      0      0      0  \n",
       "\n",
       "[5 rows x 785 columns]"
      ]
     },
     "execution_count": 8,
     "metadata": {},
     "output_type": "execute_result"
    }
   ],
   "source": [
    "# Insert code to load the csv file into the notebook\n",
    "import pandas as pd\n",
    "df=pd.read_csv(\"mnist_train.csv\")\n",
    "df.head()                \n",
    "\n"
   ]
  },
  {
   "cell_type": "markdown",
   "metadata": {
    "id": "M_OrOB1_p4Gv"
   },
   "source": [
    "# **Reading from a CSV File**\n",
    "Now, let's read the values from the csv file! If you were to look into the file, you would see that each row has a long list of numbers, with the first column having numbers between **$0$ and $9$**, and the remaining columns having values from **$0$ to $255$** (make any sense?)\n",
    "\n",
    "Feel free to store the data in any way you want, to set up future operations with those rows (you might want to read the following tasks before deciding how you would store this data, if it helps). \n",
    "\n",
    "Also, make use of the `csv` module to read csv files. There are many other ways, but this should do for this assignment at least."
   ]
  },
  {
   "cell_type": "code",
   "execution_count": 9,
   "metadata": {
    "id": "Hlw5xlGvp-aW"
   },
   "outputs": [
    {
     "name": "stdout",
     "output_type": "stream",
     "text": [
      "785\n"
     ]
    }
   ],
   "source": [
    "# Insert code to store the contents of the file in a variable (or many variables, if you want)\n",
    "import csv\n",
    "fields=[]\n",
    "rows=[]\n",
    "with open('mnist_train.csv','r') as csvreader:\n",
    "  csv=csv.reader(csvreader)\n",
    "  fields=next(csv)  \n",
    " \n",
    "  for line in csv:\n",
    "      rows.append(line)\n",
    "      \n",
    "print(len(rows[0]))\n",
    "#writing next cell's code in this cell only\n",
    "label=[]\n",
    "\n",
    "for line in rows:\n",
    "    label.append(line[0])\n",
    "for line in rows:\n",
    "    del(line[0])\n",
    "rows=np.array(rows)\n",
    "ark=[0]*len(rows)\n",
    "i=0\n",
    "for line in rows: \n",
    "     ark[i]=line.reshape(28,28)\n",
    "     i=i+1 \n",
    "\n",
    "\n",
    "\n"
   ]
  },
  {
   "cell_type": "markdown",
   "metadata": {
    "id": "le_5vpHDqCca"
   },
   "source": [
    "# **Organising Data**\n",
    "\n",
    "If you didn't figure out what the first column was supposed to be, no worries : they are the labels of the corresponding images. The remaining $784$ columns ($28 \\times 28$) correspond to the *gray-scale pixel values* of the $784$ pixels present in each image of a number.\n",
    "\n",
    "For example, the first row in the dataset has a label of $7$, signifying that the next $784$ values correspond to an image of the number $7$. These $784$ pixels are ordered **row-wise**, so the first $28$ are for the first row, the next $28$ for the second, and so on.\n",
    "\n",
    "Your tasks are the following : \n",
    "\n",
    "* Separate out the first column of values and store them separately as labels, you'll need them later\n",
    "\n",
    "* Once you're done with that, reshape the rows (after the removal of the labels) into matrices with dimension $28 \\times 28$ (If you've learnt *anything* from the first assignment, it should be to avoid using loops as much as possible, so think of, or search for, an inbuilt function that can reshape a matrix)\n",
    "\n",
    "**Note** : Just like vectors have a *depth* of $1$ and matrices have a *depth* of $2$, `NumPy` supports objects that can have a *depth* greater than $2$. \n",
    "\n",
    "This generalisation can be thought of as a **Tensor**, and the *depth* is called the *rank* or the *order* of the Tensor. If you've stored your initial data as a matrix, try and reshape it into a tensor of rank $3$, for the second task."
   ]
  },
  {
   "cell_type": "code",
   "execution_count": 6,
   "metadata": {
    "id": "FVTpVOILqFsg"
   },
   "outputs": [],
   "source": [
    "# Write your code here\n",
    "\n"
   ]
  },
  {
   "cell_type": "code",
   "execution_count": 10,
   "metadata": {
    "id": "etE1DamBqJ2D"
   },
   "outputs": [
    {
     "ename": "SyntaxError",
     "evalue": "invalid syntax (4198720445.py, line 2)",
     "output_type": "error",
     "traceback": [
      "\u001b[1;36m  Cell \u001b[1;32mIn[10], line 2\u001b[1;36m\u001b[0m\n\u001b[1;33m    Now that you have the data, in the form we want it in, go ahead and plot the first image! (Google it!)\u001b[0m\n\u001b[1;37m        ^\u001b[0m\n\u001b[1;31mSyntaxError\u001b[0m\u001b[1;31m:\u001b[0m invalid syntax\n"
     ]
    }
   ],
   "source": [
    "# **Plotting images**\n",
    "Now that you have the data, in the form we want it in, go ahead and plot the first image! (Google it!)"
   ]
  },
  {
   "cell_type": "code",
   "execution_count": 11,
   "metadata": {
    "id": "u5JakJ_PqMZ9"
   },
   "outputs": [
    {
     "data": {
      "image/png": "[encoded data removed]",
      "text/plain": [
       "<Figure size 640x480 with 2 Axes>"
      ]
     },
     "metadata": {},
     "output_type": "display_data"
    }
   ],
   "source": [
    "# Write your code here\n",
    "import matplotlib.pyplot as plt\n",
    "import matplotlib.image  as img\n",
    "import numpy as np\n",
    "\n",
    "ard=[]\n",
    "for j in ark:\n",
    "  for k in j:\n",
    "    for i in k:\n",
    "      ard.append(float(i))\n",
    "ard=np.array(ard)      \n",
    "ard=ard.reshape(60000,28,28)        \n",
    "\n",
    "ss=ard[0]\n",
    "\n",
    "plt.imshow(ss,cmap='hot')\n",
    "plt.colorbar()\n",
    "plt.show()\n",
    "\n",
    "\n",
    "\n"
   ]
  },
  {
   "cell_type": "markdown",
   "metadata": {
    "id": "WNmWhDN-qP-j"
   },
   "source": [
    "# **Grouping Images**\n",
    "\n",
    "Let's try and group those images together, based on their labels. This is slightly (maybe more than slightly) harder to understand (just using inbuilt functions), but the objective is the same : To try and minimise the number of iterations performed outside of NumPy\n",
    "\n",
    "Hint : You could also do this with $10$ iterations, which is the number of digits, and with $60000$ iterations, which is the number of images we have, so if you can't find any way without loops, try to find a way with $10$ iterations rather than $60000$"
   ]
  },
  {
   "cell_type": "code",
   "execution_count": 18,
   "metadata": {
    "id": "Loxdwb-TqQ5O"
   },
   "outputs": [
    {
     "name": "stdout",
     "output_type": "stream",
     "text": [
      "['0' '1' '2' '3' '4' '5' '6' '7' '8' '9']\n",
      "[[[0. 0. 0. ... 0. 0. 0.]\n",
      "  [0. 0. 0. ... 0. 0. 0.]\n",
      "  [0. 0. 0. ... 0. 0. 0.]\n",
      "  ...\n",
      "  [0. 0. 0. ... 0. 0. 0.]\n",
      "  [0. 0. 0. ... 0. 0. 0.]\n",
      "  [0. 0. 0. ... 0. 0. 0.]]\n",
      "\n",
      " [[0. 0. 0. ... 0. 0. 0.]\n",
      "  [0. 0. 0. ... 0. 0. 0.]\n",
      "  [0. 0. 0. ... 0. 0. 0.]\n",
      "  ...\n",
      "  [0. 0. 0. ... 0. 0. 0.]\n",
      "  [0. 0. 0. ... 0. 0. 0.]\n",
      "  [0. 0. 0. ... 0. 0. 0.]]\n",
      "\n",
      " [[0. 0. 0. ... 0. 0. 0.]\n",
      "  [0. 0. 0. ... 0. 0. 0.]\n",
      "  [0. 0. 0. ... 0. 0. 0.]\n",
      "  ...\n",
      "  [0. 0. 0. ... 0. 0. 0.]\n",
      "  [0. 0. 0. ... 0. 0. 0.]\n",
      "  [0. 0. 0. ... 0. 0. 0.]]\n",
      "\n",
      " ...\n",
      "\n",
      " [[0. 0. 0. ... 0. 0. 0.]\n",
      "  [0. 0. 0. ... 0. 0. 0.]\n",
      "  [0. 0. 0. ... 0. 0. 0.]\n",
      "  ...\n",
      "  [0. 0. 0. ... 0. 0. 0.]\n",
      "  [0. 0. 0. ... 0. 0. 0.]\n",
      "  [0. 0. 0. ... 0. 0. 0.]]\n",
      "\n",
      " [[0. 0. 0. ... 0. 0. 0.]\n",
      "  [0. 0. 0. ... 0. 0. 0.]\n",
      "  [0. 0. 0. ... 0. 0. 0.]\n",
      "  ...\n",
      "  [0. 0. 0. ... 0. 0. 0.]\n",
      "  [0. 0. 0. ... 0. 0. 0.]\n",
      "  [0. 0. 0. ... 0. 0. 0.]]\n",
      "\n",
      " [[0. 0. 0. ... 0. 0. 0.]\n",
      "  [0. 0. 0. ... 0. 0. 0.]\n",
      "  [0. 0. 0. ... 0. 0. 0.]\n",
      "  ...\n",
      "  [0. 0. 0. ... 0. 0. 0.]\n",
      "  [0. 0. 0. ... 0. 0. 0.]\n",
      "  [0. 0. 0. ... 0. 0. 0.]]]\n"
     ]
    }
   ],
   "source": [
    "# Write your code here\n",
    "import numpy as np\n",
    "\n",
    "# Example data\n",
    "\n",
    "\n",
    "image_labels = np.array(label)\n",
    "images = ard  \n",
    "\n",
    "# Find unique labels\n",
    "unique_labels = np.unique(image_labels)\n",
    "#unique_labels=[]\n",
    "#for i in unique_label:\n",
    "#    unique_labels.append(np.array(i,dtype=int))\n",
    "#unique_labels=np.array(unique_labels)\n",
    "\n",
    "\n",
    "# Create a dictionary to store groups\n",
    "image_groups = {label: [] for label in unique_labels}\n",
    "\n",
    "# Group images based on labels\n",
    "for x in unique_labels:\n",
    "    label_indices = np.where(image_labels == x)[0]\n",
    "\n",
    "    image_groups[x] = images[label_indices]\n",
    "print(unique_labels)\n",
    "print(image_groups['5'])\n",
    "# Now, image_groups contains the images grouped by their labels\n",
    "\n"
   ]
  },
  {
   "cell_type": "markdown",
   "metadata": {
    "id": "TQrWoJw9qU9I"
   },
   "source": [
    "# **Computing Mean Images**\n",
    "\n",
    "Now that we have our data grouped, let's try to calculate the mean of the images corresponding to a particular label.\n",
    "\n",
    "Don't forget to plot all of them!"
   ]
  },
  {
   "cell_type": "code",
   "execution_count": 19,
   "metadata": {
    "id": "Dp8jlsfOqWOk"
   },
   "outputs": [
    {
     "data": {
      "image/png": "[encoded data removed]",
      "text/plain": [
       "<Figure size 1200x500 with 10 Axes>"
      ]
     },
     "metadata": {},
     "output_type": "display_data"
    }
   ],
   "source": [
    "# Write your code here for an array of 10 images, each representing the mean image of a number from 0 to 9, in order. Also plot them!\n",
    "##import statistics as st\n",
    "#d=[]\n",
    "#def average(x):\n",
    "#    d=[]\n",
    "#    \n",
    "#    \n",
    "#    \n",
    "#    for y in np.nditer(x):\n",
    "#        d.append(y)\n",
    "#    d=np.array(d)\n",
    "#    avg=st.mean(d)\n",
    "#    return avg\n",
    "#i=0\n",
    "#for i in unique_labels :\n",
    "#    d.append(average(image_groups[i]))\n",
    "#        \n",
    "#print(d)    \n",
    "#        \n",
    "#d=np.array(d)\n",
    "#xpoints=[]\n",
    "#for i in unique_labels:\n",
    "#    xpoints.append(float(i))\n",
    "#xpoints=np.array(xpoints)    \n",
    "#plt.plot(xpoints,d)\n",
    "#plt.show()\n",
    "#  \n",
    "mean_images = []\n",
    "for label in unique_labels:\n",
    "    label_image = np.mean(image_groups[label], axis=0)\n",
    "    mean_images.append(label_image)\n",
    "plt.figure(figsize=(12, 5))\n",
    "for digit in range(10):\n",
    "    plt.subplot(2, 5, digit + 1)\n",
    "    plt.imshow(mean_images[digit], cmap='gray')\n",
    "    plt.title(f'Mean Image of {digit}')\n",
    "    plt.axis('off')\n",
    "\n",
    "plt.tight_layout()\n",
    "plt.show()\n"
   ]
  },
  {
   "cell_type": "markdown",
   "metadata": {
    "id": "jYwZ3wlVt8eq"
   },
   "source": [
    "# **Submission**\n",
    "\n",
    "Please upload the edited version of this notebook in the github classroom, with your file labelled as \\<roll_number\\>_week0.ipynb"
   ]
  },
  {
   "cell_type": "code",
   "execution_count": null,
   "metadata": {},
   "outputs": [],
   "source": []
  },
  {
   "cell_type": "code",
   "execution_count": null,
   "metadata": {},
   "outputs": [],
   "source": []
  }
 ],
 "metadata": {
  "colab": {
   "provenance": []
  },
  "kernelspec": {
   "display_name": "Python 3 (ipykernel)",
   "language": "python",
   "name": "python3"
  },
  "language_info": {
   "codemirror_mode": {
    "name": "ipython",
    "version": 3
   },
   "file_extension": ".py",
   "mimetype": "text/x-python",
   "name": "python",
   "nbconvert_exporter": "python",
   "pygments_lexer": "ipython3",
   "version": "3.12.1"
  }
 },
 "nbformat": 4,
 "nbformat_minor": 4
}
